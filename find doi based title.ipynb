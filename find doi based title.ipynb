{
 "cells": [
  {
   "cell_type": "markdown",
   "id": "1c518a34",
   "metadata": {},
   "source": [
    "# DOI Finder Based on Article Titles\n",
    "\n",
    "This notebook retrieves DOIs for a list of article titles using the Crossref API. It reads titles from a CSV, queries Crossref, and saves the results."
   ]
  },
  {
   "cell_type": "markdown",
   "id": "791f9289",
   "metadata": {},
   "source": [
    "##  Import Libraries\n",
    "\n",
    "Import all necessary Python libraries for API requests, data handling, and string similarity."
   ]
  },
  {
   "cell_type": "code",
   "execution_count": null,
   "id": "5a2b235f-d477-4807-ac98-a358558c18eb",
   "metadata": {},
   "outputs": [],
   "source": [
    "# Import URL handling utilities for encoding and making requests\n",
    "from urllib.parse import quote_plus, urlencode\n",
    "from urllib.request import urlopen, Request\n",
    "# Import json for parsing API responses\n",
    "import json\n",
    "# Import Levenshtein ratio for string similarity comparison\n",
    "from Levenshtein import ratio\n",
    "# Import HTTPError for handling API request errors\n",
    "from urllib.error import HTTPError\n",
    "# Import time for adding delays between requests\n",
    "import time\n",
    "# Import pandas for data manipulation\n",
    "import pandas as pd"
   ]
  },
  {
   "cell_type": "markdown",
   "id": "67bce364",
   "metadata": {},
   "source": [
    "## Read Article Titles\n",
    "\n",
    "Load the list of article titles from a CSV file. Update the file path and column name as needed."
   ]
  },
  {
   "cell_type": "code",
   "execution_count": null,
   "id": "c42a7e49",
   "metadata": {},
   "outputs": [],
   "source": [
    "# Read titles from a CSV file into a list\n",
    "# Replace 'path_to_your_file.csv' and 'titles' with your actual file path and column name\n",
    "# Example: titles = pd.read_csv('my_file.csv')['Title'].tolist()\n",
    "titles = pd.read_csv('path_to_your_file.csv')[titles].tolist()"
   ]
  },
  {
   "cell_type": "markdown",
   "id": "f8b0ab37",
   "metadata": {},
   "source": [
    "## Define Query and DOI Finder Functions\n",
    "\n",
    "Create two functions:\n",
    "\n",
    "- One to query the Crossref API for a given title and return the most similar result.\n",
    "- Another to find the DOI for a given title using the Crossref query function."
   ]
  },
  {
   "cell_type": "code",
   "execution_count": null,
   "id": "25f265b9-6adf-4b57-9554-d9e1ac3536d8",
   "metadata": {},
   "outputs": [],
   "source": [
    "# Define a default result for cases where no match is found\n",
    "EMPTY_RESULT = {\n",
    "    \"crossref_title\": \"\",\n",
    "    \"similarity\": 0,\n",
    "    \"doi\": \"\"\n",
    "}\n",
    "\n",
    "def crossref_query_title(title):\n",
    "    \"\"\"\n",
    "    Query the Crossref API for a given title and return the most similar result.\n",
    "    Returns a dictionary with the Crossref title, similarity score, and DOI.\n",
    "    \"\"\"\n",
    "    api_url = \"https://api.crossref.org/works?\"\n",
    "    params = {\"rows\": \"5\", \"query.bibliographic\": title}  # Search for up to 5 results\n",
    "    url = api_url + urlencode(params, quote_via=quote_plus)\n",
    "    request = Request(url)\n",
    "    try:\n",
    "        ret = urlopen(request)\n",
    "        content = ret.read()\n",
    "        data = json.loads(content)\n",
    "        items = data[\"message\"][\"items\"]\n",
    "        most_similar = EMPTY_RESULT\n",
    "        for item in items:\n",
    "            if \"title\" not in item:\n",
    "                continue  # Skip items without a title\n",
    "            title = item[\"title\"].pop()  # Get the title from the result\n",
    "            result = {\n",
    "                \"crossref_title\": title,\n",
    "                # Calculate similarity between the found title and the query\n",
    "                \"similarity\": ratio(title.lower(), params[\"query.bibliographic\"].lower()),\n",
    "                \"doi\": item[\"DOI\"]\n",
    "            }\n",
    "            # Keep the result with the highest similarity\n",
    "            if most_similar[\"similarity\"] < result[\"similarity\"]:\n",
    "                most_similar = result\n",
    "        return {\"success\": True, \"result\": most_similar}\n",
    "    except:\n",
    "        # Return an empty result if any error occurs\n",
    "        return {\"success\": False, \"result\": EMPTY_RESULT}"
   ]
  },
  {
   "cell_type": "code",
   "execution_count": null,
   "id": "d9146f97-7025-4f04-8450-0d6f31baedc0",
   "metadata": {},
   "outputs": [],
   "source": [
    "def doi_finder(title):\n",
    "    # Get the result from crossref query\n",
    "    result=crossref_query_title(title)['result']\n",
    "    \n",
    "    # Add random delay between 3-6 seconds to avoid rate limiting\n",
    "    time.sleep(random.randint(3,6))\n",
    "    \n",
    "    # Check if we found an exact match (similarity = 1.0)\n",
    "    if result['similarity']==1.0:\n",
    "        doi=result['doi']\n",
    "        print(f\"Doi of this '{title}' is : {doi}\")\n",
    "    else:\n",
    "        # If no exact match found, return NaN\n",
    "        doi=np.nan\n",
    "        print(f\"Sorry , we can't  find any doi match with this '{title}' ...\")\n",
    "    return doi"
   ]
  },
  {
   "cell_type": "markdown",
   "id": "df3052bc",
   "metadata": {},
   "source": [
    "## Collect and Find DOIs for All Titles\n",
    "\n",
    "Initialize an empty list to store the DOIs, then use multithreading to efficiently find DOIs for all titles and measure the runtime."
   ]
  },
  {
   "cell_type": "code",
   "execution_count": null,
   "id": "c4b4ac92-c1c5-45c0-bac9-443b4e027438",
   "metadata": {},
   "outputs": [],
   "source": [
    "# Initialize an empty list to store DOIs\n",
    "dois = []"
   ]
  },
  {
   "cell_type": "code",
   "execution_count": null,
   "id": "d4672232-ef3e-41e6-8d3c-761d621ef19d",
   "metadata": {},
   "outputs": [],
   "source": [
    "# Main execution block: find DOIs for all titles using multithreading\n",
    "if __name__ == '__main__':    \n",
    "    start = time.perf_counter()        # Start timer\n",
    "    i = 0\n",
    "    with concurrent.futures.ThreadPoolExecutor() as executor:\n",
    "        # Map the doi_finder function to all titles in parallel\n",
    "        results = executor.map(doi_finder, titles)\n",
    "        for result in results:\n",
    "            print(i, result)\n",
    "            dois.append(result)\n",
    "            i += 1\n",
    "    finish = time.perf_counter()  # End timer\n",
    "    run_time = round(finish - start, 2)\n",
    "    print(run_time)"
   ]
  },
  {
   "cell_type": "markdown",
   "id": "96b858a7",
   "metadata": {},
   "source": [
    "## Save Results\n",
    "\n",
    "Combine the titles and DOIs into a DataFrame and save the results to a CSV file."
   ]
  },
  {
   "cell_type": "code",
   "execution_count": null,
   "id": "22125c2a-7c47-44b1-89df-3928a6e51e71",
   "metadata": {},
   "outputs": [],
   "source": [
    "#put two list titles and dois in one dataframe\n",
    "df = pd.DataFrame({\"Title\": titles, \"Doi\": dois})\n",
    "df"
   ]
  },
  {
   "cell_type": "code",
   "execution_count": null,
   "id": "a24cfe49-5ef7-4c66-b921-f26010af3c9d",
   "metadata": {},
   "outputs": [],
   "source": [
    "# Save the DataFrame to a CSV file\n",
    "df.to_csv('your_file_path.csv')"
   ]
  }
 ],
 "metadata": {
  "kernelspec": {
   "display_name": "Python 3 (ipykernel)",
   "language": "python",
   "name": "python3"
  },
  "language_info": {
   "codemirror_mode": {
    "name": "ipython",
    "version": 3
   },
   "file_extension": ".py",
   "mimetype": "text/x-python",
   "name": "python",
   "nbconvert_exporter": "python",
   "pygments_lexer": "ipython3",
   "version": "3.12.0"
  }
 },
 "nbformat": 4,
 "nbformat_minor": 5
}
